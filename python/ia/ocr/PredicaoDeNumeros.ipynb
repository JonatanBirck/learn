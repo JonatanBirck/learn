{
  "nbformat": 4,
  "nbformat_minor": 0,
  "metadata": {
    "colab": {
      "name": "PredicaoDeNumeros.ipynb",
      "provenance": [],
      "collapsed_sections": []
    },
    "kernelspec": {
      "name": "python3",
      "display_name": "Python 3"
    },
    "language_info": {
      "name": "python"
    }
  },
  "cells": [
    {
      "cell_type": "code",
      "metadata": {
        "colab": {
          "base_uri": "https://localhost:8080/"
        },
        "id": "_4LZLoheeOFB",
        "outputId": "a7633400-ca24-4064-c3d1-c2d5920a7809"
      },
      "source": [
        "import tensorflow as tf\n",
        "\n",
        "# Números de 0 a 9\n",
        "mnist = tf.keras.datasets.mnist\n",
        "\n",
        "# Criadas váriaveis de treino e teste\n",
        "(x_train, y_train),(x_test, y_test) = mnist.load_data()\n",
        "\n",
        "# Normalização dos dados\n",
        "x_train, x_test = x_train / 255.0, x_test / 255.0\n",
        "\n",
        "# Definição da rede neural\n",
        "#\n",
        "# Flatten: transforma a matriz de pixels em um vetor\n",
        "# Dense: define a quantidade de neurônios\n",
        "# Dropout: tira 20% dos neurônios em cada iteração\n",
        "# Dense: Define o valor de saída de 0 a 9\n",
        "model = tf.keras.models.Sequential([\n",
        "  tf.keras.layers.Flatten(input_shape=(28, 28)),\n",
        "  tf.keras.layers.Dense(512, activation=tf.nn.relu),\n",
        "  tf.keras.layers.Dropout(0.2),\n",
        "  tf.keras.layers.Dense(10, activation=tf.nn.softmax)\n",
        "])\n",
        "\n",
        "# Compila o modelo\n",
        "model.compile(optimizer='adam',\n",
        "              loss='sparse_categorical_crossentropy',\n",
        "              metrics=['accuracy'])\n",
        "\n",
        "# Irá treinar 5 vezes com as imagens de treino\n",
        "model.fit(x_train, y_train, epochs=5)"
      ],
      "execution_count": null,
      "outputs": [
        {
          "output_type": "stream",
          "name": "stdout",
          "text": [
            "Downloading data from https://storage.googleapis.com/tensorflow/tf-keras-datasets/mnist.npz\n",
            "11493376/11490434 [==============================] - 0s 0us/step\n",
            "11501568/11490434 [==============================] - 0s 0us/step\n",
            "Epoch 1/5\n",
            "1875/1875 [==============================] - 8s 4ms/step - loss: 0.2170 - accuracy: 0.9357\n",
            "Epoch 2/5\n",
            "1875/1875 [==============================] - 7s 4ms/step - loss: 0.0966 - accuracy: 0.9700\n",
            "Epoch 3/5\n",
            "1875/1875 [==============================] - 7s 4ms/step - loss: 0.0696 - accuracy: 0.9781\n",
            "Epoch 4/5\n",
            "1875/1875 [==============================] - 8s 4ms/step - loss: 0.0525 - accuracy: 0.9830\n",
            "Epoch 5/5\n",
            "1875/1875 [==============================] - 8s 4ms/step - loss: 0.0416 - accuracy: 0.9870\n"
          ]
        },
        {
          "output_type": "execute_result",
          "data": {
            "text/plain": [
              "<keras.callbacks.History at 0x7f6f76d7add0>"
            ]
          },
          "metadata": {},
          "execution_count": 3
        }
      ]
    },
    {
      "cell_type": "code",
      "metadata": {
        "colab": {
          "base_uri": "https://localhost:8080/"
        },
        "id": "wC4FeJetlqni",
        "outputId": "b519acd2-91f2-4170-9cd9-74923ceff578"
      },
      "source": [
        "# Irá printar a porcentagem de acerto ao tentar prever as imagens de teste\n",
        "print(\"Porcentagem de acerto: {:.2%}\".format(model.evaluate(x_test, y_test)[1]))"
      ],
      "execution_count": null,
      "outputs": [
        {
          "output_type": "stream",
          "name": "stdout",
          "text": [
            "313/313 [==============================] - 1s 2ms/step - loss: 0.0706 - accuracy: 0.9787\n",
            "Porcentagem de acerto: 97.87%\n"
          ]
        }
      ]
    },
    {
      "cell_type": "code",
      "metadata": {
        "id": "_i7LsPr2um_X"
      },
      "source": [
        "# Irá printar o modelo\n",
        "model.summary()"
      ],
      "execution_count": null,
      "outputs": []
    },
    {
      "cell_type": "code",
      "metadata": {
        "colab": {
          "base_uri": "https://localhost:8080/",
          "height": 282
        },
        "id": "JfZYxwaBfKZS",
        "outputId": "39321d6f-ca3b-416e-8b09-c918a5301df0"
      },
      "source": [
        "# Número da imagem que se deseja prever\n",
        "index = 2458\n",
        "\n",
        "# Desenha imagem com matplotlib\n",
        "import matplotlib.pyplot as plt\n",
        "plt.imshow(x_test[index])\n",
        "\n",
        "# Imprime a predição feita\n",
        "import numpy as np\n",
        "print(\"Predição:\", np.argmax(model.predict(np.array([x_test[index]]))))"
      ],
      "execution_count": null,
      "outputs": [
        {
          "output_type": "stream",
          "name": "stdout",
          "text": [
            "Predição: 6\n"
          ]
        },
        {
          "output_type": "display_data",
          "data": {
            "image/png": "[encoded data removed]",
            "text/plain": [
              "<Figure size 432x288 with 1 Axes>"
            ]
          },
          "metadata": {
            "needs_background": "light"
          }
        }
      ]
    },
    {
      "cell_type": "code",
      "metadata": {
        "colab": {
          "base_uri": "https://localhost:8080/",
          "height": 550
        },
        "id": "X-NGhDV_t-Hf",
        "outputId": "19ef6bfa-8419-4a28-f1bb-767ee34aea4d"
      },
      "source": [
        "# Prevendo nossas imagens\n",
        "import cv2 ## pip install opencv-python\n",
        "import numpy as np\n",
        "import matplotlib.pyplot as plt\n",
        "from google.colab.patches import cv2_imshow\n",
        "\n",
        "# Local da imagem no notebook\n",
        "image = './predict/2.png'\n",
        "\n",
        "# Carregando imagem\n",
        "img = cv2.imread(image, cv2.IMREAD_GRAYSCALE)\n",
        "\n",
        "# Redimensionando para 28x28 (padrão mnist)\n",
        "resized = cv2.resize(img, (28,28), interpolation = cv2.INTER_CUBIC)\n",
        "#resized = cv2.resize(img, (28,28), interpolation = cv2.INTER_CUBIC)\n",
        "\n",
        "# Predição\n",
        "print(\"Predição:\", np.argmax(model.predict(np.array([resized]))))\n",
        "cv2_imshow(cv2.resize(resized, (250,250)))\n",
        "plt.imshow(resized)"
      ],
      "execution_count": null,
      "outputs": [
        {
          "output_type": "stream",
          "name": "stdout",
          "text": [
            "Predição: 2\n"
          ]
        },
        {
          "output_type": "display_data",
          "data": {
            "image/png": "[encoded data removed]",
            "text/plain": [
              "<PIL.Image.Image image mode=L size=250x250 at 0x7F6F7342F850>"
            ]
          },
          "metadata": {}
        },
        {
          "output_type": "execute_result",
          "data": {
            "text/plain": [
              "<matplotlib.image.AxesImage at 0x7f6f753bac90>"
            ]
          },
          "metadata": {},
          "execution_count": 20
        },
        {
          "output_type": "display_data",
          "data": {
            "image/png": "[encoded data removed]",
            "text/plain": [
              "<Figure size 432x288 with 1 Axes>"
            ]
          },
          "metadata": {
            "needs_background": "light"
          }
        }
      ]
    }
  ]
}